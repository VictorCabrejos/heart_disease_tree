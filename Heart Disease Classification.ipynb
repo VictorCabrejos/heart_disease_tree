{
 "cells": [
  {
   "cell_type": "code",
   "execution_count": 42,
   "metadata": {},
   "outputs": [],
   "source": [
    "# import libraries\n",
    "import pandas as pd\n",
    "import numpy as np"
   ]
  },
  {
   "cell_type": "code",
   "execution_count": 43,
   "metadata": {},
   "outputs": [],
   "source": [
    "# Import data into a dataframe\n",
    "df = pd.read_csv(\"heart.csv\")"
   ]
  },
  {
   "cell_type": "markdown",
   "metadata": {},
   "source": [
    "### DATA EXPLORATION"
   ]
  },
  {
   "cell_type": "code",
   "execution_count": 44,
   "metadata": {},
   "outputs": [
    {
     "data": {
      "text/html": [
       "<div>\n",
       "<style scoped>\n",
       "    .dataframe tbody tr th:only-of-type {\n",
       "        vertical-align: middle;\n",
       "    }\n",
       "\n",
       "    .dataframe tbody tr th {\n",
       "        vertical-align: top;\n",
       "    }\n",
       "\n",
       "    .dataframe thead th {\n",
       "        text-align: right;\n",
       "    }\n",
       "</style>\n",
       "<table border=\"1\" class=\"dataframe\">\n",
       "  <thead>\n",
       "    <tr style=\"text-align: right;\">\n",
       "      <th></th>\n",
       "      <th>age</th>\n",
       "      <th>sex</th>\n",
       "      <th>cp</th>\n",
       "      <th>trestbps</th>\n",
       "      <th>chol</th>\n",
       "      <th>fbs</th>\n",
       "      <th>restecg</th>\n",
       "      <th>thalach</th>\n",
       "      <th>exang</th>\n",
       "      <th>oldpeak</th>\n",
       "      <th>slope</th>\n",
       "      <th>ca</th>\n",
       "      <th>thal</th>\n",
       "      <th>target</th>\n",
       "    </tr>\n",
       "  </thead>\n",
       "  <tbody>\n",
       "    <tr>\n",
       "      <th>0</th>\n",
       "      <td>63</td>\n",
       "      <td>1</td>\n",
       "      <td>3</td>\n",
       "      <td>145</td>\n",
       "      <td>233</td>\n",
       "      <td>1</td>\n",
       "      <td>0</td>\n",
       "      <td>150</td>\n",
       "      <td>0</td>\n",
       "      <td>2.3</td>\n",
       "      <td>0</td>\n",
       "      <td>0</td>\n",
       "      <td>1</td>\n",
       "      <td>1</td>\n",
       "    </tr>\n",
       "    <tr>\n",
       "      <th>1</th>\n",
       "      <td>37</td>\n",
       "      <td>1</td>\n",
       "      <td>2</td>\n",
       "      <td>130</td>\n",
       "      <td>250</td>\n",
       "      <td>0</td>\n",
       "      <td>1</td>\n",
       "      <td>187</td>\n",
       "      <td>0</td>\n",
       "      <td>3.5</td>\n",
       "      <td>0</td>\n",
       "      <td>0</td>\n",
       "      <td>2</td>\n",
       "      <td>1</td>\n",
       "    </tr>\n",
       "    <tr>\n",
       "      <th>2</th>\n",
       "      <td>41</td>\n",
       "      <td>0</td>\n",
       "      <td>1</td>\n",
       "      <td>130</td>\n",
       "      <td>204</td>\n",
       "      <td>0</td>\n",
       "      <td>0</td>\n",
       "      <td>172</td>\n",
       "      <td>0</td>\n",
       "      <td>1.4</td>\n",
       "      <td>2</td>\n",
       "      <td>0</td>\n",
       "      <td>2</td>\n",
       "      <td>1</td>\n",
       "    </tr>\n",
       "    <tr>\n",
       "      <th>3</th>\n",
       "      <td>56</td>\n",
       "      <td>1</td>\n",
       "      <td>1</td>\n",
       "      <td>120</td>\n",
       "      <td>236</td>\n",
       "      <td>0</td>\n",
       "      <td>1</td>\n",
       "      <td>178</td>\n",
       "      <td>0</td>\n",
       "      <td>0.8</td>\n",
       "      <td>2</td>\n",
       "      <td>0</td>\n",
       "      <td>2</td>\n",
       "      <td>1</td>\n",
       "    </tr>\n",
       "    <tr>\n",
       "      <th>4</th>\n",
       "      <td>57</td>\n",
       "      <td>0</td>\n",
       "      <td>0</td>\n",
       "      <td>120</td>\n",
       "      <td>354</td>\n",
       "      <td>0</td>\n",
       "      <td>1</td>\n",
       "      <td>163</td>\n",
       "      <td>1</td>\n",
       "      <td>0.6</td>\n",
       "      <td>2</td>\n",
       "      <td>0</td>\n",
       "      <td>2</td>\n",
       "      <td>1</td>\n",
       "    </tr>\n",
       "    <tr>\n",
       "      <th>5</th>\n",
       "      <td>57</td>\n",
       "      <td>1</td>\n",
       "      <td>0</td>\n",
       "      <td>140</td>\n",
       "      <td>192</td>\n",
       "      <td>0</td>\n",
       "      <td>1</td>\n",
       "      <td>148</td>\n",
       "      <td>0</td>\n",
       "      <td>0.4</td>\n",
       "      <td>1</td>\n",
       "      <td>0</td>\n",
       "      <td>1</td>\n",
       "      <td>1</td>\n",
       "    </tr>\n",
       "    <tr>\n",
       "      <th>6</th>\n",
       "      <td>56</td>\n",
       "      <td>0</td>\n",
       "      <td>1</td>\n",
       "      <td>140</td>\n",
       "      <td>294</td>\n",
       "      <td>0</td>\n",
       "      <td>0</td>\n",
       "      <td>153</td>\n",
       "      <td>0</td>\n",
       "      <td>1.3</td>\n",
       "      <td>1</td>\n",
       "      <td>0</td>\n",
       "      <td>2</td>\n",
       "      <td>1</td>\n",
       "    </tr>\n",
       "    <tr>\n",
       "      <th>7</th>\n",
       "      <td>44</td>\n",
       "      <td>1</td>\n",
       "      <td>1</td>\n",
       "      <td>120</td>\n",
       "      <td>263</td>\n",
       "      <td>0</td>\n",
       "      <td>1</td>\n",
       "      <td>173</td>\n",
       "      <td>0</td>\n",
       "      <td>0.0</td>\n",
       "      <td>2</td>\n",
       "      <td>0</td>\n",
       "      <td>3</td>\n",
       "      <td>1</td>\n",
       "    </tr>\n",
       "    <tr>\n",
       "      <th>8</th>\n",
       "      <td>52</td>\n",
       "      <td>1</td>\n",
       "      <td>2</td>\n",
       "      <td>172</td>\n",
       "      <td>199</td>\n",
       "      <td>1</td>\n",
       "      <td>1</td>\n",
       "      <td>162</td>\n",
       "      <td>0</td>\n",
       "      <td>0.5</td>\n",
       "      <td>2</td>\n",
       "      <td>0</td>\n",
       "      <td>3</td>\n",
       "      <td>1</td>\n",
       "    </tr>\n",
       "    <tr>\n",
       "      <th>9</th>\n",
       "      <td>57</td>\n",
       "      <td>1</td>\n",
       "      <td>2</td>\n",
       "      <td>150</td>\n",
       "      <td>168</td>\n",
       "      <td>0</td>\n",
       "      <td>1</td>\n",
       "      <td>174</td>\n",
       "      <td>0</td>\n",
       "      <td>1.6</td>\n",
       "      <td>2</td>\n",
       "      <td>0</td>\n",
       "      <td>2</td>\n",
       "      <td>1</td>\n",
       "    </tr>\n",
       "  </tbody>\n",
       "</table>\n",
       "</div>"
      ],
      "text/plain": [
       "   age  sex  cp  trestbps  chol  fbs  restecg  thalach  exang  oldpeak  slope  \\\n",
       "0   63    1   3       145   233    1        0      150      0      2.3      0   \n",
       "1   37    1   2       130   250    0        1      187      0      3.5      0   \n",
       "2   41    0   1       130   204    0        0      172      0      1.4      2   \n",
       "3   56    1   1       120   236    0        1      178      0      0.8      2   \n",
       "4   57    0   0       120   354    0        1      163      1      0.6      2   \n",
       "5   57    1   0       140   192    0        1      148      0      0.4      1   \n",
       "6   56    0   1       140   294    0        0      153      0      1.3      1   \n",
       "7   44    1   1       120   263    0        1      173      0      0.0      2   \n",
       "8   52    1   2       172   199    1        1      162      0      0.5      2   \n",
       "9   57    1   2       150   168    0        1      174      0      1.6      2   \n",
       "\n",
       "   ca  thal  target  \n",
       "0   0     1       1  \n",
       "1   0     2       1  \n",
       "2   0     2       1  \n",
       "3   0     2       1  \n",
       "4   0     2       1  \n",
       "5   0     1       1  \n",
       "6   0     2       1  \n",
       "7   0     3       1  \n",
       "8   0     3       1  \n",
       "9   0     2       1  "
      ]
     },
     "execution_count": 44,
     "metadata": {},
     "output_type": "execute_result"
    }
   ],
   "source": [
    "# Data Exploration\n",
    "df.head(10)"
   ]
  },
  {
   "cell_type": "code",
   "execution_count": 45,
   "metadata": {},
   "outputs": [
    {
     "data": {
      "text/plain": [
       "array([1, 0], dtype=int64)"
      ]
     },
     "execution_count": 45,
     "metadata": {},
     "output_type": "execute_result"
    }
   ],
   "source": [
    "# df.target.unique()\n",
    "df['target'].unique()"
   ]
  },
  {
   "cell_type": "code",
   "execution_count": 46,
   "metadata": {},
   "outputs": [
    {
     "data": {
      "text/plain": [
       "303"
      ]
     },
     "execution_count": 46,
     "metadata": {},
     "output_type": "execute_result"
    }
   ],
   "source": [
    "# Dataframe dimensions\n",
    "df.shape[0]"
   ]
  },
  {
   "cell_type": "markdown",
   "metadata": {},
   "source": [
    "Features are: \n",
    "> 1. age\n",
    "> 2. sex\n",
    "> 3. chest pain type (4 values)\n",
    "> 4. resting blood pressure\n",
    "> 5. serum cholestoral in mg/dl\n",
    "> 6. fasting blood sugar > 120 mg/dl\n",
    "> 7. resting electrocardiographic results (values 0,1,2)\n",
    "> 8. maximum heart rate achieved\n",
    "> 9. exercise induced angina\n",
    "> 10. oldpeak = ST depression induced by exercise relative to rest\n",
    "> 11. the slope of the peak exercise ST segment\n",
    "> 12. number of major vessels (0-3) colored by flourosopy\n",
    "> 13. thal: 3 = normal; 6 = fixed defect; 7 = reversable defect\n",
    "\n",
    "Target is:\n",
    "\n",
    "> The \"goal\" field refers to the presence of heart disease in the patient. \n",
    "\n",
    "> 0 (no presence) , 1 (heart disease) "
   ]
  },
  {
   "cell_type": "code",
   "execution_count": 47,
   "metadata": {},
   "outputs": [
    {
     "data": {
      "text/plain": [
       "array([1, 0], dtype=int64)"
      ]
     },
     "execution_count": 47,
     "metadata": {},
     "output_type": "execute_result"
    }
   ],
   "source": [
    "df['target'].unique()"
   ]
  },
  {
   "cell_type": "code",
   "execution_count": 48,
   "metadata": {},
   "outputs": [
    {
     "data": {
      "text/plain": [
       "Index(['age', 'sex', 'cp', 'trestbps', 'chol', 'fbs', 'restecg', 'thalach',\n",
       "       'exang', 'oldpeak', 'slope', 'ca', 'thal', 'target'],\n",
       "      dtype='object')"
      ]
     },
     "execution_count": 48,
     "metadata": {},
     "output_type": "execute_result"
    }
   ],
   "source": [
    "df.columns"
   ]
  },
  {
   "cell_type": "markdown",
   "metadata": {},
   "source": [
    "### Preparing / Splitting the Data"
   ]
  },
  {
   "cell_type": "code",
   "execution_count": 49,
   "metadata": {},
   "outputs": [
    {
     "name": "stdout",
     "output_type": "stream",
     "text": [
      "(303, 13) (212, 13) (30, 13) (61, 13)\n"
     ]
    }
   ],
   "source": [
    "# Creating features and targets\n",
    "\n",
    "features_name = ['age', 'sex', 'cp', 'trestbps', 'chol', 'fbs', 'restecg', 'thalach', 'exang', 'oldpeak', 'slope', 'ca', 'thal']\n",
    "                 \n",
    "features = df[features_name]\n",
    "\n",
    "targets = df['target']\n",
    "\n",
    "#Please split the data into training set (70%) , validation set (10%), test set (20%)\n",
    "\n",
    "train_size = int(0.70 * features.shape[0])\n",
    "validation_size = int(0.10 * features.shape[0])\n",
    "\n",
    "\n",
    "# Training set (70% of all data rows) --> 212\n",
    "train_features = features[:train_size]\n",
    "train_targets = targets[:train_size]\n",
    "\n",
    "# Validation set (10% of all data rows) --> 30\n",
    "validation_features = features[train_size : train_size + validation_size]\n",
    "validation_targets = targets[train_size: train_size + validation_size]\n",
    "\n",
    "# Test set (20% of all data rows) --> 61\n",
    "test_features = features[train_size + validation_size : ]\n",
    "test_targets = targets[train_size + validation_size: ]\n",
    "\n",
    "print(features.shape, train_features.shape, validation_features.shape, test_features.shape)"
   ]
  },
  {
   "cell_type": "markdown",
   "metadata": {},
   "source": [
    "### What is a Decision Tree"
   ]
  },
  {
   "cell_type": "markdown",
   "metadata": {},
   "source": [
    "<img src=\"img/equation1.png\">\n",
    "<img src=\"img/equation2.png\">"
   ]
  },
  {
   "cell_type": "code",
   "execution_count": 50,
   "metadata": {},
   "outputs": [],
   "source": [
    "from numpy import log2 as log\n",
    "\n",
    "# Machine epsilon\n",
    "# The smallest representable positive number such that: 1.0 + eps != 1.0.\n",
    "#  We used Machine Epsilon to avoid: log(0) or 0 in the denominator\n",
    "eps = np.finfo(float).eps"
   ]
  },
  {
   "cell_type": "code",
   "execution_count": 51,
   "metadata": {},
   "outputs": [
    {
     "name": "stdout",
     "output_type": "stream",
     "text": [
      "Entropy node =  0.994264609261905\n"
     ]
    }
   ],
   "source": [
    "# We need to find the ENTROPY and the\n",
    "# INFORMATION GAIN for splitting the data set\n",
    "\n",
    "# Calculating Entropy of column \"target\"\n",
    "\n",
    "entropy_node = 0  #Initialize Entropy\n",
    "\n",
    "# find unique valyes of \"target\"\n",
    "values = df.target.unique()  #Unique objects - '0', '1'\n",
    "\n",
    "# this calculates the entropy:\n",
    "\n",
    "for value in values:\n",
    "    # fraction is 'pm' --> proportion of # elements in a \n",
    "    #                    split group\n",
    "    # example: how many '0's in total number of elements\n",
    "    fraction = df.target.value_counts()[value]/len(df.target) \n",
    "    \n",
    "    # summation\n",
    "    entropy_node += - fraction * np.log2(fraction)\n",
    "\n",
    "print(\"Entropy node = \", entropy_node)"
   ]
  },
  {
   "cell_type": "code",
   "execution_count": 52,
   "metadata": {},
   "outputs": [
    {
     "data": {
      "text/plain": [
       "array([233, 250, 204, 236, 354, 192, 294, 263, 199, 168, 239, 275, 266,\n",
       "       211, 283, 219, 340, 226, 247, 234, 243, 302, 212, 175, 417, 197,\n",
       "       198, 177, 273, 213, 304, 232, 269, 360, 308, 245, 208, 264, 321,\n",
       "       325, 235, 257, 216, 256, 231, 141, 252, 201, 222, 260, 182, 303,\n",
       "       265, 309, 186, 203, 183, 220, 209, 258, 227, 261, 221, 205, 240,\n",
       "       318, 298, 564, 277, 214, 248, 255, 207, 223, 288, 160, 394, 315,\n",
       "       246, 244, 270, 195, 196, 254, 126, 313, 262, 215, 193, 271, 268,\n",
       "       267, 210, 295, 306, 178, 242, 180, 228, 149, 278, 253, 342, 157,\n",
       "       286, 229, 284, 224, 206, 167, 230, 335, 276, 353, 225, 330, 290,\n",
       "       172, 305, 188, 282, 185, 326, 274, 164, 307, 249, 341, 407, 217,\n",
       "       174, 281, 289, 322, 299, 300, 293, 184, 409, 259, 200, 327, 237,\n",
       "       218, 319, 166, 311, 169, 187, 176, 241, 131], dtype=int64)"
      ]
     },
     "execution_count": 52,
     "metadata": {},
     "output_type": "execute_result"
    }
   ],
   "source": [
    "df.chol.unique()"
   ]
  },
  {
   "cell_type": "code",
   "execution_count": 53,
   "metadata": {},
   "outputs": [
    {
     "data": {
      "text/plain": [
       "0.43452808237653207"
      ]
     },
     "execution_count": 53,
     "metadata": {},
     "output_type": "execute_result"
    }
   ],
   "source": [
    "attribute = 'chol'\n",
    "target_variables = df.target.unique()  #This gives all '0' and '1'\n",
    "variables = df[attribute].unique()    #This gives different features in that attribute (like '233')\n",
    "entropy_attribute = 0\n",
    "for variable in variables:\n",
    "    entropy_each_feature = 0\n",
    "    for target_variable in target_variables:\n",
    "        num = len(df[attribute][df[attribute]==variable][df.target ==target_variable]) #numerator\n",
    "        den = len(df[attribute][df[attribute]==variable])  #denominator\n",
    "        fraction = num/(den+eps)  #pi\n",
    "        entropy_each_feature += -fraction*log(fraction+eps) #This calculates entropy for one feature like \n",
    "    fraction2 = den/len(df)\n",
    "    entropy_attribute += -fraction2*entropy_each_feature   #Sums up all the entropy 'chol'\n",
    "    \n",
    "abs(entropy_attribute)"
   ]
  },
  {
   "cell_type": "code",
   "execution_count": 54,
   "metadata": {},
   "outputs": [],
   "source": [
    "def find_entropy(df):\n",
    "    Class = df.keys()[-1]   #To make the code generic, changing target variable class name\n",
    "    entropy = 0\n",
    "    values = df[Class].unique()\n",
    "    for value in values:\n",
    "        fraction = df[Class].value_counts()[value]/len(df[Class])\n",
    "        entropy += -fraction*np.log2(fraction)\n",
    "    return entropy\n",
    "  \n",
    "  \n",
    "def find_entropy_attribute(df,attribute):\n",
    "  Class = df.keys()[-1]   #To make the code generic, changing target variable class name\n",
    "  target_variables = df[Class].unique()  #\n",
    "  variables = df[attribute].unique()    #\n",
    "  entropy2 = 0\n",
    "  for variable in variables:\n",
    "      entropy = 0\n",
    "      for target_variable in target_variables:\n",
    "          num = len(df[attribute][df[attribute]==variable][df[Class] ==target_variable])\n",
    "          den = len(df[attribute][df[attribute]==variable])\n",
    "          fraction = num/(den+eps)\n",
    "          entropy += -fraction*log(fraction+eps)\n",
    "      fraction2 = den/len(df)\n",
    "      entropy2 += -fraction2*entropy\n",
    "  return abs(entropy2)\n",
    "\n",
    "\n",
    "def find_winner(df):\n",
    "    Entropy_att = []\n",
    "    IG = []\n",
    "    for key in df.keys()[:-1]:\n",
    "#         Entropy_att.append(find_entropy_attribute(df,key))\n",
    "        IG.append(find_entropy(df)-find_entropy_attribute(df,key))\n",
    "    return df.keys()[:-1][np.argmax(IG)]\n",
    "  \n",
    "  \n",
    "def get_subtable(df, node,value):\n",
    "  return df[df[node] == value].reset_index(drop=True)\n",
    "\n",
    "\n",
    "def buildTree(df,tree=None): \n",
    "    Class = df.keys()[-1]   #To make the code generic, changing target variable class name\n",
    "    \n",
    "    #Here we build our decision tree\n",
    "\n",
    "    #Get attribute with maximum information gain\n",
    "    node = find_winner(df)\n",
    "    \n",
    "    #Get distinct value of that attribute e.g Salary is node and Low,Med and High are values\n",
    "    attValue = np.unique(df[node])\n",
    "    \n",
    "    #Create an empty dictionary to create tree    \n",
    "    if tree is None:                    \n",
    "        tree={}\n",
    "        tree[node] = {}\n",
    "    \n",
    "   #We make loop to construct a tree by calling this function recursively. \n",
    "    #In this we check if the subset is pure and stops if it is pure. \n",
    "\n",
    "    for value in attValue:\n",
    "        \n",
    "        subtable = get_subtable(df,node,value)\n",
    "        clValue,counts = np.unique(subtable['target'],return_counts=True)                        \n",
    "        \n",
    "        if len(counts)==1:#Checking purity of subset\n",
    "            tree[node][value] = clValue[0]                                                    \n",
    "        else:        \n",
    "            tree[node][value] = buildTree(subtable) #Calling the function recursively \n",
    "                   \n",
    "    return tree"
   ]
  },
  {
   "cell_type": "code",
   "execution_count": 55,
   "metadata": {},
   "outputs": [],
   "source": [
    "tree = buildTree(df)\n"
   ]
  },
  {
   "cell_type": "code",
   "execution_count": 56,
   "metadata": {},
   "outputs": [
    {
     "name": "stdout",
     "output_type": "stream",
     "text": [
      "{'chol': {126: 1,\n",
      "          131: 0,\n",
      "          141: 1,\n",
      "          149: {'age': {49: 0, 71: 1}},\n",
      "          157: 1,\n",
      "          160: 1,\n",
      "          164: 0,\n",
      "          166: 0,\n",
      "          167: 0,\n",
      "          168: 1,\n",
      "          169: 0,\n",
      "          172: 0,\n",
      "          174: 0,\n",
      "          175: 1,\n",
      "          176: 0,\n",
      "          177: {'age': {43: 0, 46: 1, 59: 0, 65: 1}},\n",
      "          178: 1,\n",
      "          180: 1,\n",
      "          182: 1,\n",
      "          183: 1,\n",
      "          184: 0,\n",
      "          185: 0,\n",
      "          186: 1,\n",
      "          187: 0,\n",
      "          188: 0,\n",
      "          192: 1,\n",
      "          193: {'age': {56: 1, 68: 0}},\n",
      "          195: 1,\n",
      "          196: 1,\n",
      "          197: {'age': {44: 0, 46: 1, 53: 1, 58: 1, 63: 0, 76: 1}},\n",
      "          198: {'age': {35: 0, 41: 1}},\n",
      "          199: 1,\n",
      "          200: 0,\n",
      "          201: 1,\n",
      "          203: {'age': {41: 1, 53: 0, 61: 0}},\n",
      "          204: {'age': {29: 1, 41: 1, 46: 1, 47: 1, 52: 0, 59: 0}},\n",
      "          205: {'age': {52: 1, 55: 0}},\n",
      "          206: 0,\n",
      "          207: {'age': {57: 1, 61: 0}},\n",
      "          208: 1,\n",
      "          209: 1,\n",
      "          210: 1,\n",
      "          211: 1,\n",
      "          212: {'age': {52: 0, 59: 1, 64: 0, 66: 0, 67: 0}},\n",
      "          213: 1,\n",
      "          214: 1,\n",
      "          215: 1,\n",
      "          216: {'age': {53: 1, 58: 0}},\n",
      "          217: 0,\n",
      "          218: 0,\n",
      "          219: {'age': {39: 0, 44: 1, 50: 1}},\n",
      "          220: 1,\n",
      "          221: 1,\n",
      "          222: 1,\n",
      "          223: {'age': {40: 0, 52: 1, 67: 1}},\n",
      "          224: 0,\n",
      "          225: 0,\n",
      "          226: 1,\n",
      "          227: 1,\n",
      "          228: {'sex': {0: 0, 1: 1}},\n",
      "          229: 0,\n",
      "          230: 0,\n",
      "          231: {'age': {38: 0, 46: 0, 62: 1}},\n",
      "          232: {'age': {54: 1, 57: 0}},\n",
      "          233: {'age': {44: 1, 50: 0, 52: 1, 63: 1}},\n",
      "          234: {'age': {45: 1, 53: 1, 58: 0, 59: 1, 61: 0, 69: 1}},\n",
      "          235: 1,\n",
      "          236: {'age': {45: 1, 56: 1, 57: 0}},\n",
      "          237: 0,\n",
      "          239: {'thalach': {126: 0, 142: 0, 151: 1, 160: 1}},\n",
      "          240: 1,\n",
      "          241: 0,\n",
      "          242: 1,\n",
      "          243: {'age': {46: 1, 47: 0, 50: 0, 61: 1}},\n",
      "          244: {'age': {42: 1, 50: 1, 62: 0}},\n",
      "          245: 1,\n",
      "          246: {'age': {53: 1, 64: 0, 66: 0}},\n",
      "          247: {'trestbps': {132: 0, 150: 1}},\n",
      "          248: {'age': {58: 1, 65: 0}},\n",
      "          249: 0,\n",
      "          250: 1,\n",
      "          252: 1,\n",
      "          253: {'age': {47: 1, 60: 0}},\n",
      "          254: {'age': {50: 1, 63: 0, 65: 0, 67: 0, 69: 0}},\n",
      "          255: {'age': {48: 1, 52: 0}},\n",
      "          256: {'age': {48: 0, 51: 1, 56: 0}},\n",
      "          257: 1,\n",
      "          258: {'trestbps': {120: 1, 125: 0, 150: 0}},\n",
      "          259: 0,\n",
      "          260: {'age': {45: 1, 61: 0}},\n",
      "          261: {'age': {51: 1, 57: 0}},\n",
      "          262: 1,\n",
      "          263: {'age': {44: 1, 62: 0, 64: 1}},\n",
      "          264: {'age': {45: 0, 53: 1}},\n",
      "          265: 1,\n",
      "          266: {'age': {49: 1, 54: 0}},\n",
      "          267: {'age': {54: 1, 62: 0}},\n",
      "          268: {'age': {41: 1, 62: 0}},\n",
      "          269: {'age': {49: 1, 63: 0, 65: 1, 70: 0, 74: 1}},\n",
      "          270: {'age': {58: 0, 59: 1}},\n",
      "          271: 1,\n",
      "          273: {'age': {54: 1, 59: 0}},\n",
      "          274: 0,\n",
      "          275: {'age': {47: 0, 48: 1}},\n",
      "          276: 0,\n",
      "          277: 1,\n",
      "          278: 1,\n",
      "          281: 0,\n",
      "          282: 0,\n",
      "          283: {'age': {54: 0, 56: 0, 58: 1}},\n",
      "          284: 0,\n",
      "          286: 0,\n",
      "          288: {'age': {54: 1, 56: 0, 59: 0}},\n",
      "          289: 0,\n",
      "          290: 0,\n",
      "          293: 0,\n",
      "          294: {'age': {56: 1, 62: 0}},\n",
      "          295: 1,\n",
      "          298: {'age': {51: 0, 52: 1}},\n",
      "          299: 0,\n",
      "          300: 0,\n",
      "          302: 1,\n",
      "          303: 1,\n",
      "          304: {'age': {54: 1, 77: 0}},\n",
      "          305: 0,\n",
      "          306: 1,\n",
      "          307: 0,\n",
      "          308: 1,\n",
      "          309: {'age': {45: 0, 54: 1, 64: 0}},\n",
      "          311: 0,\n",
      "          313: 1,\n",
      "          315: {'age': {42: 0, 43: 1}},\n",
      "          318: {'age': {58: 0, 60: 1}},\n",
      "          319: 0,\n",
      "          321: 1,\n",
      "          322: 0,\n",
      "          325: 1,\n",
      "          326: 0,\n",
      "          327: 0,\n",
      "          330: 0,\n",
      "          335: 0,\n",
      "          340: 1,\n",
      "          341: 0,\n",
      "          342: 1,\n",
      "          353: 0,\n",
      "          354: 1,\n",
      "          360: 1,\n",
      "          394: 1,\n",
      "          407: 0,\n",
      "          409: 0,\n",
      "          417: 1,\n",
      "          564: 1}}\n"
     ]
    }
   ],
   "source": [
    "import pprint\n",
    "pprint.pprint(tree)"
   ]
  },
  {
   "cell_type": "code",
   "execution_count": 57,
   "metadata": {},
   "outputs": [],
   "source": [
    "def predict(inst,tree):\n",
    "    #This function is used to predict for any input variable \n",
    "    \n",
    "    #Recursively we go through the tree that we built earlier\n",
    "\n",
    "    for nodes in tree.keys():        \n",
    "        \n",
    "        value = inst[nodes]\n",
    "        tree = tree[nodes][value]\n",
    "        prediction = 0\n",
    "            \n",
    "        if type(tree) is dict:\n",
    "            prediction = predict(inst, tree)\n",
    "        else:\n",
    "            prediction = tree\n",
    "            break;                            \n",
    "        \n",
    "    return prediction"
   ]
  },
  {
   "cell_type": "code",
   "execution_count": 30,
   "metadata": {},
   "outputs": [],
   "source": [
    "inst = df.iloc[6]  #This takes row with index 6\n"
   ]
  },
  {
   "cell_type": "code",
   "execution_count": 31,
   "metadata": {},
   "outputs": [
    {
     "data": {
      "text/plain": [
       "age          56.0\n",
       "sex           0.0\n",
       "cp            1.0\n",
       "trestbps    140.0\n",
       "chol        294.0\n",
       "fbs           0.0\n",
       "restecg       0.0\n",
       "thalach     153.0\n",
       "exang         0.0\n",
       "oldpeak       1.3\n",
       "slope         1.0\n",
       "ca            0.0\n",
       "thal          2.0\n",
       "target        1.0\n",
       "Name: 6, dtype: float64"
      ]
     },
     "execution_count": 31,
     "metadata": {},
     "output_type": "execute_result"
    }
   ],
   "source": [
    "inst"
   ]
  },
  {
   "cell_type": "code",
   "execution_count": 32,
   "metadata": {},
   "outputs": [],
   "source": [
    "data = {'age':56.0, 'sex':0.0, 'cp':1.0, 'trestbps':140.0, 'chol':294.0, 'fbs':0.0, 'restecg':0.0, 'thalach':153.0, 'exang':0.0, 'oldpeak':1.3, 'slope':1.0, 'ca':0.0, 'thal':2.0}\n",
    "inst = pd.Series(data)"
   ]
  },
  {
   "cell_type": "code",
   "execution_count": 33,
   "metadata": {},
   "outputs": [
    {
     "data": {
      "text/plain": [
       "1"
      ]
     },
     "execution_count": 33,
     "metadata": {},
     "output_type": "execute_result"
    }
   ],
   "source": [
    "prediction = predict(inst, tree)\n",
    "prediction"
   ]
  },
  {
   "cell_type": "code",
   "execution_count": null,
   "metadata": {},
   "outputs": [],
   "source": []
  }
 ],
 "metadata": {
  "kernelspec": {
   "display_name": "Python 3",
   "language": "python",
   "name": "python3"
  },
  "language_info": {
   "codemirror_mode": {
    "name": "ipython",
    "version": 3
   },
   "file_extension": ".py",
   "mimetype": "text/x-python",
   "name": "python",
   "nbconvert_exporter": "python",
   "pygments_lexer": "ipython3",
   "version": "3.7.3"
  }
 },
 "nbformat": 4,
 "nbformat_minor": 2
}
